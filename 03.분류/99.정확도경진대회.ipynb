{
 "cells": [
  {
   "cell_type": "code",
   "execution_count": 90,
   "metadata": {},
   "outputs": [],
   "source": [
    "import pandas as pd\n",
    "rw = pd.read_csv('data/winequality-red.csv')\n",
    "rw['target'] = rw.quality.apply(lambda x: 1 if x >= 6 else 0)\n",
    "X = rw.iloc[:, :-2].values\n",
    "y = rw.target.values\n",
    "from sklearn.preprocessing import StandardScaler\n",
    "X_std = StandardScaler().fit_transform(X)"
   ]
  },
  {
   "cell_type": "code",
   "execution_count": 91,
   "metadata": {},
   "outputs": [],
   "source": [
    "from sklearn.model_selection import train_test_split\n",
    "X_train, X_test, y_train, y_test = train_test_split(\n",
    "    X_std, y, stratify=y, test_size=0.2, random_state=2023\n",
    ")"
   ]
  },
  {
   "attachments": {},
   "cell_type": "markdown",
   "metadata": {},
   "source": [
    "### SVC = 0.790625"
   ]
  },
  {
   "cell_type": "code",
   "execution_count": 92,
   "metadata": {},
   "outputs": [
    {
     "data": {
      "text/plain": [
       "0.790625"
      ]
     },
     "execution_count": 92,
     "metadata": {},
     "output_type": "execute_result"
    }
   ],
   "source": [
    "from sklearn.svm import SVC\n",
    "from sklearn.model_selection import GridSearchCV\n",
    "svc = SVC(probability=True, random_state=2023)\n",
    "svc.fit(X_train, y_train)\n",
    "svc.score(X_test, y_test)"
   ]
  },
  {
   "attachments": {},
   "cell_type": "markdown",
   "metadata": {},
   "source": [
    "### SVC + GSCV = 0.79375"
   ]
  },
  {
   "cell_type": "code",
   "execution_count": 93,
   "metadata": {},
   "outputs": [
    {
     "data": {
      "text/plain": [
       "{'C': 0.981}"
      ]
     },
     "execution_count": 93,
     "metadata": {},
     "output_type": "execute_result"
    }
   ],
   "source": [
    "params = {'C': [0.98, 0.981, 0.982]}\n",
    "grid_svc = GridSearchCV(svc, params, scoring='accuracy', cv=5)\n",
    "grid_svc.fit(X_train, y_train)\n",
    "grid_svc.best_params_"
   ]
  },
  {
   "cell_type": "code",
   "execution_count": 94,
   "metadata": {},
   "outputs": [
    {
     "data": {
      "text/plain": [
       "0.79375"
      ]
     },
     "execution_count": 94,
     "metadata": {},
     "output_type": "execute_result"
    }
   ],
   "source": [
    "grid_svc.best_estimator_.score(X_test, y_test)"
   ]
  },
  {
   "attachments": {},
   "cell_type": "markdown",
   "metadata": {},
   "source": [
    "### KNN = 0.734375"
   ]
  },
  {
   "cell_type": "code",
   "execution_count": 95,
   "metadata": {},
   "outputs": [
    {
     "data": {
      "text/plain": [
       "0.734375"
      ]
     },
     "execution_count": 95,
     "metadata": {},
     "output_type": "execute_result"
    }
   ],
   "source": [
    "from sklearn.neighbors import KNeighborsClassifier\n",
    "knn = KNeighborsClassifier()\n",
    "knn.fit(X_train, y_train)\n",
    "knn.score(X_test, y_test)"
   ]
  },
  {
   "attachments": {},
   "cell_type": "markdown",
   "metadata": {},
   "source": [
    "### LRC = 0.778125"
   ]
  },
  {
   "cell_type": "code",
   "execution_count": 96,
   "metadata": {},
   "outputs": [
    {
     "data": {
      "text/plain": [
       "0.778125"
      ]
     },
     "execution_count": 96,
     "metadata": {},
     "output_type": "execute_result"
    }
   ],
   "source": [
    "from sklearn.linear_model import LogisticRegression\n",
    "lrc = LogisticRegression(random_state=2023)\n",
    "lrc.fit(X_train, y_train)\n",
    "lrc.score(X_test, y_test)"
   ]
  },
  {
   "cell_type": "code",
   "execution_count": 97,
   "metadata": {},
   "outputs": [
    {
     "data": {
      "text/plain": [
       "{'C': 0.87}"
      ]
     },
     "execution_count": 97,
     "metadata": {},
     "output_type": "execute_result"
    }
   ],
   "source": [
    "params = {'C': [0.87, 0.89, 0.9]}\n",
    "grid_lrc = GridSearchCV(lrc, params, scoring='accuracy', cv=5)\n",
    "grid_lrc.fit(X_train, y_train)\n",
    "grid_lrc.best_params_"
   ]
  },
  {
   "cell_type": "code",
   "execution_count": 98,
   "metadata": {},
   "outputs": [
    {
     "data": {
      "text/plain": [
       "0.778125"
      ]
     },
     "execution_count": 98,
     "metadata": {},
     "output_type": "execute_result"
    }
   ],
   "source": [
    "grid_lrc.score(X_test, y_test)"
   ]
  },
  {
   "attachments": {},
   "cell_type": "markdown",
   "metadata": {},
   "source": [
    "### VOC = 0.784375"
   ]
  },
  {
   "cell_type": "code",
   "execution_count": 99,
   "metadata": {},
   "outputs": [
    {
     "data": {
      "text/plain": [
       "0.784375"
      ]
     },
     "execution_count": 99,
     "metadata": {},
     "output_type": "execute_result"
    }
   ],
   "source": [
    "from sklearn.ensemble import VotingClassifier\n",
    "voc = VotingClassifier(\n",
    "    estimators=[('LRC', lrc), ('SVC', svc), ('KNN', knn)],\n",
    "    voting='hard'\n",
    ")\n",
    "voc.fit(X_train, y_train)\n",
    "voc.score(X_test, y_test)"
   ]
  },
  {
   "attachments": {},
   "cell_type": "markdown",
   "metadata": {},
   "source": [
    "### VOC2 = 0.796875"
   ]
  },
  {
   "cell_type": "code",
   "execution_count": 100,
   "metadata": {},
   "outputs": [
    {
     "data": {
      "text/plain": [
       "0.796875"
      ]
     },
     "execution_count": 100,
     "metadata": {},
     "output_type": "execute_result"
    }
   ],
   "source": [
    "svc2 = SVC(probability=True, random_state=2023)\n",
    "svc2.fit(X_train, y_train)\n",
    "voc2 = VotingClassifier(\n",
    "    estimators=[('LRC', lrc), ('SVC', svc2), ('KNN', knn)],\n",
    "    voting='soft'\n",
    ")\n",
    "voc2.fit(X_train, y_train)\n",
    "voc2.score(X_test, y_test)"
   ]
  },
  {
   "attachments": {},
   "cell_type": "markdown",
   "metadata": {},
   "source": [
    "### VOC2 + GSCV = 0.803125"
   ]
  },
  {
   "cell_type": "code",
   "execution_count": 101,
   "metadata": {},
   "outputs": [
    {
     "data": {
      "text/plain": [
       "{'LRC__C': 0.1, 'SVC__C': 10}"
      ]
     },
     "execution_count": 101,
     "metadata": {},
     "output_type": "execute_result"
    }
   ],
   "source": [
    "params = {\n",
    "    'LRC__C': [0.1, 1, 10],\n",
    "    'SVC__C': [0.1, 1, 10]\n",
    "}\n",
    "grid_voc2 = GridSearchCV(voc2, params, scoring='accuracy', cv=5)\n",
    "grid_voc2.fit(X_train, y_train)\n",
    "grid_voc2.best_params_"
   ]
  },
  {
   "cell_type": "code",
   "execution_count": 102,
   "metadata": {},
   "outputs": [
    {
     "data": {
      "text/plain": [
       "0.803125"
      ]
     },
     "execution_count": 102,
     "metadata": {},
     "output_type": "execute_result"
    }
   ],
   "source": [
    "grid_voc2.best_estimator_.score(X_test, y_test)"
   ]
  },
  {
   "attachments": {},
   "cell_type": "markdown",
   "metadata": {},
   "source": [
    "### RFC = 0.86875"
   ]
  },
  {
   "cell_type": "code",
   "execution_count": 118,
   "metadata": {},
   "outputs": [
    {
     "data": {
      "text/plain": [
       "0.86875"
      ]
     },
     "execution_count": 118,
     "metadata": {},
     "output_type": "execute_result"
    }
   ],
   "source": [
    "from sklearn.ensemble import RandomForestClassifier\n",
    "rfc = RandomForestClassifier(random_state=2023)\n",
    "rfc.fit(X_train, y_train)\n",
    "rfc.score(X_test, y_test)"
   ]
  },
  {
   "attachments": {},
   "cell_type": "markdown",
   "metadata": {},
   "source": [
    "### XGB = 0.840625"
   ]
  },
  {
   "cell_type": "code",
   "execution_count": 106,
   "metadata": {},
   "outputs": [
    {
     "data": {
      "text/plain": [
       "0.840625"
      ]
     },
     "execution_count": 106,
     "metadata": {},
     "output_type": "execute_result"
    }
   ],
   "source": [
    "from xgboost import XGBClassifier\n",
    "xgb = XGBClassifier()\n",
    "xgb.fit(X_train, y_train)\n",
    "xgb.score(X_test, y_test)"
   ]
  },
  {
   "cell_type": "code",
   "execution_count": 107,
   "metadata": {},
   "outputs": [
    {
     "data": {
      "text/plain": [
       "{'max_depth': 19}"
      ]
     },
     "execution_count": 107,
     "metadata": {},
     "output_type": "execute_result"
    }
   ],
   "source": [
    "params = {\n",
    "    'max_depth': [18, 19, 20]\n",
    "}\n",
    "grid_search = GridSearchCV(xgb, params, scoring='accuracy', cv=5)\n",
    "grid_search.fit(X_train, y_train)\n",
    "grid_search.best_params_"
   ]
  },
  {
   "cell_type": "code",
   "execution_count": 108,
   "metadata": {},
   "outputs": [
    {
     "data": {
      "text/plain": [
       "0.840625"
      ]
     },
     "execution_count": 108,
     "metadata": {},
     "output_type": "execute_result"
    }
   ],
   "source": [
    "grid_search.score(X_test, y_test)"
   ]
  },
  {
   "attachments": {},
   "cell_type": "markdown",
   "metadata": {},
   "source": [
    "### XGB + GSCV = 0.840625"
   ]
  },
  {
   "cell_type": "code",
   "execution_count": 109,
   "metadata": {},
   "outputs": [
    {
     "data": {
      "text/plain": [
       "{'max_depth': 6}"
      ]
     },
     "execution_count": 109,
     "metadata": {},
     "output_type": "execute_result"
    }
   ],
   "source": [
    "params = {'max_depth': [5, 6, 7]}\n",
    "grid_xgb = GridSearchCV(xgb, params, scoring='accuracy', cv=5)\n",
    "grid_xgb.fit(X_train, y_train)\n",
    "grid_xgb.best_params_"
   ]
  },
  {
   "cell_type": "code",
   "execution_count": 110,
   "metadata": {},
   "outputs": [
    {
     "data": {
      "text/plain": [
       "0.840625"
      ]
     },
     "execution_count": 110,
     "metadata": {},
     "output_type": "execute_result"
    }
   ],
   "source": [
    "grid_xgb.best_estimator_.score(X_test, y_test)"
   ]
  },
  {
   "attachments": {},
   "cell_type": "markdown",
   "metadata": {},
   "source": [
    "### LGB = 0.846875"
   ]
  },
  {
   "cell_type": "code",
   "execution_count": 111,
   "metadata": {},
   "outputs": [
    {
     "name": "stdout",
     "output_type": "stream",
     "text": [
      "[1]\tvalid_0's binary_logloss: 0.653161\n",
      "[2]\tvalid_0's binary_logloss: 0.625011\n",
      "[3]\tvalid_0's binary_logloss: 0.59498\n",
      "[4]\tvalid_0's binary_logloss: 0.570736\n",
      "[5]\tvalid_0's binary_logloss: 0.548624\n",
      "[6]\tvalid_0's binary_logloss: 0.529952\n",
      "[7]\tvalid_0's binary_logloss: 0.517124\n",
      "[8]\tvalid_0's binary_logloss: 0.503533\n",
      "[9]\tvalid_0's binary_logloss: 0.491252\n",
      "[10]\tvalid_0's binary_logloss: 0.480848\n",
      "[11]\tvalid_0's binary_logloss: 0.470929\n",
      "[12]\tvalid_0's binary_logloss: 0.459038\n",
      "[13]\tvalid_0's binary_logloss: 0.450861\n",
      "[14]\tvalid_0's binary_logloss: 0.447485\n",
      "[15]\tvalid_0's binary_logloss: 0.440419\n",
      "[16]\tvalid_0's binary_logloss: 0.438103\n",
      "[17]\tvalid_0's binary_logloss: 0.434231\n",
      "[18]\tvalid_0's binary_logloss: 0.431824\n",
      "[19]\tvalid_0's binary_logloss: 0.429003\n",
      "[20]\tvalid_0's binary_logloss: 0.42519\n",
      "[21]\tvalid_0's binary_logloss: 0.42258\n",
      "[22]\tvalid_0's binary_logloss: 0.419985\n",
      "[23]\tvalid_0's binary_logloss: 0.417877\n",
      "[24]\tvalid_0's binary_logloss: 0.416492\n",
      "[25]\tvalid_0's binary_logloss: 0.412202\n",
      "[26]\tvalid_0's binary_logloss: 0.411035\n",
      "[27]\tvalid_0's binary_logloss: 0.409846\n",
      "[28]\tvalid_0's binary_logloss: 0.409559\n",
      "[29]\tvalid_0's binary_logloss: 0.406237\n",
      "[30]\tvalid_0's binary_logloss: 0.405264\n",
      "[31]\tvalid_0's binary_logloss: 0.402983\n",
      "[32]\tvalid_0's binary_logloss: 0.400528\n",
      "[33]\tvalid_0's binary_logloss: 0.398267\n",
      "[34]\tvalid_0's binary_logloss: 0.397981\n",
      "[35]\tvalid_0's binary_logloss: 0.395487\n",
      "[36]\tvalid_0's binary_logloss: 0.393794\n",
      "[37]\tvalid_0's binary_logloss: 0.393575\n",
      "[38]\tvalid_0's binary_logloss: 0.393328\n",
      "[39]\tvalid_0's binary_logloss: 0.39254\n",
      "[40]\tvalid_0's binary_logloss: 0.390234\n",
      "[41]\tvalid_0's binary_logloss: 0.391291\n",
      "[42]\tvalid_0's binary_logloss: 0.391551\n",
      "[43]\tvalid_0's binary_logloss: 0.391101\n",
      "[44]\tvalid_0's binary_logloss: 0.391445\n",
      "[45]\tvalid_0's binary_logloss: 0.390047\n",
      "[46]\tvalid_0's binary_logloss: 0.390445\n",
      "[47]\tvalid_0's binary_logloss: 0.390249\n",
      "[48]\tvalid_0's binary_logloss: 0.389477\n",
      "[49]\tvalid_0's binary_logloss: 0.388945\n",
      "[50]\tvalid_0's binary_logloss: 0.387465\n",
      "[51]\tvalid_0's binary_logloss: 0.388837\n",
      "[52]\tvalid_0's binary_logloss: 0.389108\n",
      "[53]\tvalid_0's binary_logloss: 0.389156\n",
      "[54]\tvalid_0's binary_logloss: 0.388748\n",
      "[55]\tvalid_0's binary_logloss: 0.387721\n",
      "[56]\tvalid_0's binary_logloss: 0.388134\n",
      "[57]\tvalid_0's binary_logloss: 0.389924\n",
      "[58]\tvalid_0's binary_logloss: 0.390415\n",
      "[59]\tvalid_0's binary_logloss: 0.390807\n",
      "[60]\tvalid_0's binary_logloss: 0.389095\n",
      "[61]\tvalid_0's binary_logloss: 0.388583\n",
      "[62]\tvalid_0's binary_logloss: 0.388626\n",
      "[63]\tvalid_0's binary_logloss: 0.387901\n",
      "[64]\tvalid_0's binary_logloss: 0.388299\n",
      "[65]\tvalid_0's binary_logloss: 0.389143\n",
      "[66]\tvalid_0's binary_logloss: 0.389369\n",
      "[67]\tvalid_0's binary_logloss: 0.38829\n",
      "[68]\tvalid_0's binary_logloss: 0.389128\n",
      "[69]\tvalid_0's binary_logloss: 0.389438\n",
      "[70]\tvalid_0's binary_logloss: 0.390322\n",
      "[71]\tvalid_0's binary_logloss: 0.390091\n",
      "[72]\tvalid_0's binary_logloss: 0.389879\n",
      "[73]\tvalid_0's binary_logloss: 0.389948\n",
      "[74]\tvalid_0's binary_logloss: 0.389475\n",
      "[75]\tvalid_0's binary_logloss: 0.390166\n",
      "[76]\tvalid_0's binary_logloss: 0.389692\n",
      "[77]\tvalid_0's binary_logloss: 0.388653\n",
      "[78]\tvalid_0's binary_logloss: 0.389277\n",
      "[79]\tvalid_0's binary_logloss: 0.389763\n",
      "[80]\tvalid_0's binary_logloss: 0.389178\n",
      "[81]\tvalid_0's binary_logloss: 0.389329\n",
      "[82]\tvalid_0's binary_logloss: 0.391167\n",
      "[83]\tvalid_0's binary_logloss: 0.392802\n",
      "[84]\tvalid_0's binary_logloss: 0.393881\n",
      "[85]\tvalid_0's binary_logloss: 0.394896\n",
      "[86]\tvalid_0's binary_logloss: 0.39671\n",
      "[87]\tvalid_0's binary_logloss: 0.398444\n",
      "[88]\tvalid_0's binary_logloss: 0.398363\n",
      "[89]\tvalid_0's binary_logloss: 0.399056\n",
      "[90]\tvalid_0's binary_logloss: 0.398794\n",
      "[91]\tvalid_0's binary_logloss: 0.398859\n",
      "[92]\tvalid_0's binary_logloss: 0.399505\n",
      "[93]\tvalid_0's binary_logloss: 0.399948\n",
      "[94]\tvalid_0's binary_logloss: 0.399951\n",
      "[95]\tvalid_0's binary_logloss: 0.401414\n",
      "[96]\tvalid_0's binary_logloss: 0.402617\n",
      "[97]\tvalid_0's binary_logloss: 0.403187\n",
      "[98]\tvalid_0's binary_logloss: 0.402959\n",
      "[99]\tvalid_0's binary_logloss: 0.401467\n",
      "[100]\tvalid_0's binary_logloss: 0.402199\n"
     ]
    },
    {
     "name": "stderr",
     "output_type": "stream",
     "text": [
      "c:\\Users\\YONSAI\\anaconda3\\lib\\site-packages\\lightgbm\\sklearn.py:736: UserWarning: 'verbose' argument is deprecated and will be removed in a future release of LightGBM. Pass 'log_evaluation()' callback via 'callbacks' argument instead.\n",
      "  _log_warning(\"'verbose' argument is deprecated and will be removed in a future release of LightGBM. \"\n"
     ]
    },
    {
     "data": {
      "text/html": [
       "<style>#sk-container-id-4 {color: black;background-color: white;}#sk-container-id-4 pre{padding: 0;}#sk-container-id-4 div.sk-toggleable {background-color: white;}#sk-container-id-4 label.sk-toggleable__label {cursor: pointer;display: block;width: 100%;margin-bottom: 0;padding: 0.3em;box-sizing: border-box;text-align: center;}#sk-container-id-4 label.sk-toggleable__label-arrow:before {content: \"▸\";float: left;margin-right: 0.25em;color: #696969;}#sk-container-id-4 label.sk-toggleable__label-arrow:hover:before {color: black;}#sk-container-id-4 div.sk-estimator:hover label.sk-toggleable__label-arrow:before {color: black;}#sk-container-id-4 div.sk-toggleable__content {max-height: 0;max-width: 0;overflow: hidden;text-align: left;background-color: #f0f8ff;}#sk-container-id-4 div.sk-toggleable__content pre {margin: 0.2em;color: black;border-radius: 0.25em;background-color: #f0f8ff;}#sk-container-id-4 input.sk-toggleable__control:checked~div.sk-toggleable__content {max-height: 200px;max-width: 100%;overflow: auto;}#sk-container-id-4 input.sk-toggleable__control:checked~label.sk-toggleable__label-arrow:before {content: \"▾\";}#sk-container-id-4 div.sk-estimator input.sk-toggleable__control:checked~label.sk-toggleable__label {background-color: #d4ebff;}#sk-container-id-4 div.sk-label input.sk-toggleable__control:checked~label.sk-toggleable__label {background-color: #d4ebff;}#sk-container-id-4 input.sk-hidden--visually {border: 0;clip: rect(1px 1px 1px 1px);clip: rect(1px, 1px, 1px, 1px);height: 1px;margin: -1px;overflow: hidden;padding: 0;position: absolute;width: 1px;}#sk-container-id-4 div.sk-estimator {font-family: monospace;background-color: #f0f8ff;border: 1px dotted black;border-radius: 0.25em;box-sizing: border-box;margin-bottom: 0.5em;}#sk-container-id-4 div.sk-estimator:hover {background-color: #d4ebff;}#sk-container-id-4 div.sk-parallel-item::after {content: \"\";width: 100%;border-bottom: 1px solid gray;flex-grow: 1;}#sk-container-id-4 div.sk-label:hover label.sk-toggleable__label {background-color: #d4ebff;}#sk-container-id-4 div.sk-serial::before {content: \"\";position: absolute;border-left: 1px solid gray;box-sizing: border-box;top: 0;bottom: 0;left: 50%;z-index: 0;}#sk-container-id-4 div.sk-serial {display: flex;flex-direction: column;align-items: center;background-color: white;padding-right: 0.2em;padding-left: 0.2em;position: relative;}#sk-container-id-4 div.sk-item {position: relative;z-index: 1;}#sk-container-id-4 div.sk-parallel {display: flex;align-items: stretch;justify-content: center;background-color: white;position: relative;}#sk-container-id-4 div.sk-item::before, #sk-container-id-4 div.sk-parallel-item::before {content: \"\";position: absolute;border-left: 1px solid gray;box-sizing: border-box;top: 0;bottom: 0;left: 50%;z-index: -1;}#sk-container-id-4 div.sk-parallel-item {display: flex;flex-direction: column;z-index: 1;position: relative;background-color: white;}#sk-container-id-4 div.sk-parallel-item:first-child::after {align-self: flex-end;width: 50%;}#sk-container-id-4 div.sk-parallel-item:last-child::after {align-self: flex-start;width: 50%;}#sk-container-id-4 div.sk-parallel-item:only-child::after {width: 0;}#sk-container-id-4 div.sk-dashed-wrapped {border: 1px dashed gray;margin: 0 0.4em 0.5em 0.4em;box-sizing: border-box;padding-bottom: 0.4em;background-color: white;}#sk-container-id-4 div.sk-label label {font-family: monospace;font-weight: bold;display: inline-block;line-height: 1.2em;}#sk-container-id-4 div.sk-label-container {text-align: center;}#sk-container-id-4 div.sk-container {/* jupyter's `normalize.less` sets `[hidden] { display: none; }` but bootstrap.min.css set `[hidden] { display: none !important; }` so we also need the `!important` here to be able to override the default hidden behavior on the sphinx rendered scikit-learn.org. See: https://github.com/scikit-learn/scikit-learn/issues/21755 */display: inline-block !important;position: relative;}#sk-container-id-4 div.sk-text-repr-fallback {display: none;}</style><div id=\"sk-container-id-4\" class=\"sk-top-container\"><div class=\"sk-text-repr-fallback\"><pre>LGBMClassifier()</pre><b>In a Jupyter environment, please rerun this cell to show the HTML representation or trust the notebook. <br />On GitHub, the HTML representation is unable to render, please try loading this page with nbviewer.org.</b></div><div class=\"sk-container\" hidden><div class=\"sk-item\"><div class=\"sk-estimator sk-toggleable\"><input class=\"sk-toggleable__control sk-hidden--visually\" id=\"sk-estimator-id-4\" type=\"checkbox\" checked><label for=\"sk-estimator-id-4\" class=\"sk-toggleable__label sk-toggleable__label-arrow\">LGBMClassifier</label><div class=\"sk-toggleable__content\"><pre>LGBMClassifier()</pre></div></div></div></div></div>"
      ],
      "text/plain": [
       "LGBMClassifier()"
      ]
     },
     "execution_count": 111,
     "metadata": {},
     "output_type": "execute_result"
    }
   ],
   "source": [
    "from lightgbm import LGBMClassifier\n",
    "lgb = LGBMClassifier()\n",
    "evals = [(X_test, y_test)]\n",
    "lgb.fit(X_train, y_train, eval_set=evals, eval_metric='logloss', verbose=True)"
   ]
  },
  {
   "cell_type": "code",
   "execution_count": 112,
   "metadata": {},
   "outputs": [
    {
     "data": {
      "text/plain": [
       "0.846875"
      ]
     },
     "execution_count": 112,
     "metadata": {},
     "output_type": "execute_result"
    }
   ],
   "source": [
    "lgb.score(X_test, y_test)"
   ]
  },
  {
   "attachments": {},
   "cell_type": "markdown",
   "metadata": {},
   "source": [
    "### X_mm = 0.76875"
   ]
  },
  {
   "cell_type": "code",
   "execution_count": 113,
   "metadata": {},
   "outputs": [
    {
     "data": {
      "text/plain": [
       "0.76875"
      ]
     },
     "execution_count": 113,
     "metadata": {},
     "output_type": "execute_result"
    }
   ],
   "source": [
    "from sklearn.preprocessing import MinMaxScaler\n",
    "X_mm = MinMaxScaler().fit_transform(X)\n",
    "X_train, X_test, y_train, y_test = train_test_split(\n",
    "    X_mm, y, stratify=y, test_size=0.2, random_state=2023\n",
    ")\n",
    "lr = LogisticRegression()\n",
    "lr.fit(X_train, y_train)\n",
    "lr.score(X_test, y_test)"
   ]
  },
  {
   "attachments": {},
   "cell_type": "markdown",
   "metadata": {},
   "source": [
    "### DTC = 0.734375"
   ]
  },
  {
   "cell_type": "code",
   "execution_count": 114,
   "metadata": {},
   "outputs": [
    {
     "data": {
      "text/plain": [
       "0.734375"
      ]
     },
     "execution_count": 114,
     "metadata": {},
     "output_type": "execute_result"
    }
   ],
   "source": [
    "from sklearn.tree import DecisionTreeClassifier\n",
    "dtc = DecisionTreeClassifier(random_state=2023)\n",
    "dtc.fit(X_train, y_train)\n",
    "dtc.score(X_test, y_test)"
   ]
  },
  {
   "cell_type": "code",
   "execution_count": null,
   "metadata": {},
   "outputs": [],
   "source": []
  }
 ],
 "metadata": {
  "kernelspec": {
   "display_name": "base",
   "language": "python",
   "name": "python3"
  },
  "language_info": {
   "codemirror_mode": {
    "name": "ipython",
    "version": 3
   },
   "file_extension": ".py",
   "mimetype": "text/x-python",
   "name": "python",
   "nbconvert_exporter": "python",
   "pygments_lexer": "ipython3",
   "version": "3.10.10"
  },
  "orig_nbformat": 4
 },
 "nbformat": 4,
 "nbformat_minor": 2
}
